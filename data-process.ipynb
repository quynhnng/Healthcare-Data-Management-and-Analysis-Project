{
 "cells": [
  {
   "cell_type": "code",
   "execution_count": 1,
   "id": "ff67931a-91c3-4dae-8512-c1ecebc26526",
   "metadata": {},
   "outputs": [],
   "source": [
    "import pandas as pd\n",
    "from sklearn.preprocessing import StandardScaler, OneHotEncoder, PolynomialFeatures\n",
    "from sklearn.compose import ColumnTransformer\n",
    "from sklearn.model_selection import train_test_split, RandomizedSearchCV\n",
    "from sklearn.pipeline import Pipeline\n",
    "from sklearn.impute import SimpleImputer\n",
    "from sklearn.ensemble import RandomForestClassifier\n",
    "from sklearn.metrics import classification_report, confusion_matrix, accuracy_score\n",
    "import numpy as np\n",
    "from scipy import sparse"
   ]
  },
  {
   "cell_type": "code",
   "execution_count": 2,
   "id": "87bd8c19-0bcd-4a4e-8cab-20fabc103ccd",
   "metadata": {},
   "outputs": [
    {
     "name": "stdout",
     "output_type": "stream",
     "text": [
      "Missing values before handling:\n",
      "encounter_id                    0\n",
      "patient_nbr                     0\n",
      "race                         2273\n",
      "gender                          0\n",
      "age                             0\n",
      "weight                      98569\n",
      "admission_type_id               0\n",
      "discharge_disposition_id        0\n",
      "admission_source_id             0\n",
      "time_in_hospital                0\n",
      "payer_code                  40256\n",
      "medical_specialty           49949\n",
      "num_lab_procedures              0\n",
      "num_procedures                  0\n",
      "num_medications                 0\n",
      "number_outpatient               0\n",
      "number_emergency                0\n",
      "number_inpatient                0\n",
      "diag_1                         21\n",
      "diag_2                        358\n",
      "diag_3                       1423\n",
      "number_diagnoses                0\n",
      "max_glu_serum               96420\n",
      "A1Cresult                   84748\n",
      "metformin                       0\n",
      "repaglinide                     0\n",
      "nateglinide                     0\n",
      "chlorpropamide                  0\n",
      "glimepiride                     0\n",
      "acetohexamide                   0\n",
      "glipizide                       0\n",
      "glyburide                       0\n",
      "tolbutamide                     0\n",
      "pioglitazone                    0\n",
      "rosiglitazone                   0\n",
      "acarbose                        0\n",
      "miglitol                        0\n",
      "troglitazone                    0\n",
      "tolazamide                      0\n",
      "examide                         0\n",
      "citoglipton                     0\n",
      "insulin                         0\n",
      "glyburide-metformin             0\n",
      "glipizide-metformin             0\n",
      "glimepiride-pioglitazone        0\n",
      "metformin-rosiglitazone         0\n",
      "metformin-pioglitazone          0\n",
      "change                          0\n",
      "diabetesMed                     0\n",
      "readmitted                      0\n",
      "dtype: int64\n"
     ]
    }
   ],
   "source": [
    "#load data\n",
    "df = pd.read_csv('diabetic_data.csv')\n",
    "\n",
    "df = df.replace('?', np.nan)\n",
    "\n",
    "print(\"Missing values before handling:\")\n",
    "print(df.isnull().sum())"
   ]
  },
  {
   "cell_type": "code",
   "execution_count": 3,
   "id": "b9128675-85d5-4373-a8c0-7396f7a1ab56",
   "metadata": {},
   "outputs": [
    {
     "name": "stdout",
     "output_type": "stream",
     "text": [
      "Data after cleaning:\n",
      "   encounter_id  patient_nbr             race  gender      age  \\\n",
      "0       2278392      8222157        Caucasian  Female   [0-10)   \n",
      "1        149190     55629189        Caucasian  Female  [10-20)   \n",
      "2         64410     86047875  AfricanAmerican  Female  [20-30)   \n",
      "3        500364     82442376        Caucasian    Male  [30-40)   \n",
      "4         16680     42519267        Caucasian    Male  [40-50)   \n",
      "\n",
      "   admission_type_id  discharge_disposition_id  admission_source_id  \\\n",
      "0                  6                        25                    1   \n",
      "1                  1                         1                    7   \n",
      "2                  1                         1                    7   \n",
      "3                  1                         1                    7   \n",
      "4                  1                         1                    7   \n",
      "\n",
      "   time_in_hospital payer_code  ... glyburide-metformin  glipizide-metformin  \\\n",
      "0                 1         MC  ...                  No                   No   \n",
      "1                 3         MC  ...                  No                   No   \n",
      "2                 2         MC  ...                  No                   No   \n",
      "3                 2         MC  ...                  No                   No   \n",
      "4                 1         MC  ...                  No                   No   \n",
      "\n",
      "   glimepiride-pioglitazone  metformin-rosiglitazone  metformin-pioglitazone  \\\n",
      "0                        No                       No                      No   \n",
      "1                        No                       No                      No   \n",
      "2                        No                       No                      No   \n",
      "3                        No                       No                      No   \n",
      "4                        No                       No                      No   \n",
      "\n",
      "   change  diabetesMed readmitted interaction_1 age_binned  \n",
      "0      No           No         NO            41        NaN  \n",
      "1      Ch          Yes        >30           177        0.0  \n",
      "2      No          Yes         NO            22        0.0  \n",
      "3      Ch          Yes         NO            88        1.0  \n",
      "4      Ch          Yes         NO            51        1.0  \n",
      "\n",
      "[5 rows x 49 columns]\n"
     ]
    }
   ],
   "source": [
    "# misssing values\n",
    "threshold = len(df) * 0.5\n",
    "df = df.dropna(thresh=threshold, axis=1)\n",
    "\n",
    "# fill missing values\n",
    "for column in df.columns:\n",
    "    if df[column].dtype == 'object':\n",
    "        df[column] = df[column].fillna(df[column].mode()[0])\n",
    "    else:\n",
    "        df[column] = df[column].fillna(df[column].median())\n",
    "\n",
    "# remove duplicates\n",
    "df = df.drop_duplicates()\n",
    "\n",
    "categorical_columns = df.select_dtypes(include=['object']).columns\n",
    "for column in categorical_columns:\n",
    "    df[column] = df[column].astype('category')\n",
    "\n",
    "# feature engineering\n",
    "df['interaction_1'] = df['time_in_hospital'] * df['num_lab_procedures']\n",
    "df['age_binned'] = pd.cut(df['age'].str.extract(r'(\\d+)', expand=False).astype(int), bins=[0, 20, 40, 60, 80, 100], labels=False)\n",
    "\n",
    "# display\n",
    "print(\"Data after cleaning:\")\n",
    "print(df.head())"
   ]
  },
  {
   "cell_type": "code",
   "execution_count": 4,
   "id": "7099c0a9-bba6-4eb1-aae2-5d4a385febfb",
   "metadata": {},
   "outputs": [],
   "source": [
    "#save data\n",
    "df.to_csv('processed_data.csv', index=False)"
   ]
  },
  {
   "cell_type": "code",
   "execution_count": 5,
   "id": "c5a64508-8e7e-45e3-8565-d52d96a15855",
   "metadata": {},
   "outputs": [
    {
     "name": "stdout",
     "output_type": "stream",
     "text": [
      "Column names:\n",
      "Index(['encounter_id', 'patient_nbr', 'race', 'gender', 'age',\n",
      "       'admission_type_id', 'discharge_disposition_id', 'admission_source_id',\n",
      "       'time_in_hospital', 'payer_code', 'medical_specialty',\n",
      "       'num_lab_procedures', 'num_procedures', 'num_medications',\n",
      "       'number_outpatient', 'number_emergency', 'number_inpatient', 'diag_1',\n",
      "       'diag_2', 'diag_3', 'number_diagnoses', 'metformin', 'repaglinide',\n",
      "       'nateglinide', 'chlorpropamide', 'glimepiride', 'acetohexamide',\n",
      "       'glipizide', 'glyburide', 'tolbutamide', 'pioglitazone',\n",
      "       'rosiglitazone', 'acarbose', 'miglitol', 'troglitazone', 'tolazamide',\n",
      "       'examide', 'citoglipton', 'insulin', 'glyburide-metformin',\n",
      "       'glipizide-metformin', 'glimepiride-pioglitazone',\n",
      "       'metformin-rosiglitazone', 'metformin-pioglitazone', 'change',\n",
      "       'diabetesMed', 'readmitted', 'interaction_1', 'age_binned'],\n",
      "      dtype='object')\n"
     ]
    }
   ],
   "source": [
    "#display\n",
    "print(\"Column names:\")\n",
    "print(df.columns)"
   ]
  },
  {
   "cell_type": "code",
   "execution_count": 6,
   "id": "3f74586b-d71b-49f7-97cc-5e2d65acdcf8",
   "metadata": {},
   "outputs": [
    {
     "name": "stdout",
     "output_type": "stream",
     "text": [
      "Unique values in the target variable 'readmitted': [0 1]\n"
     ]
    }
   ],
   "source": [
    "# target variable\n",
    "target_variable = 'readmitted' \n",
    "\n",
    "# check if its in dataframe\n",
    "if target_variable not in df.columns:\n",
    "    raise KeyError(f\"Target variable '{target_variable}' not found in the DataFrame columns\")\n",
    "\n",
    "y = df[target_variable].map({'NO': 0, '>30': 1, '<30': 1})  # Assuming '>30' and '<30' both mean readmitted\n",
    "\n",
    "# check unique value\n",
    "print(f\"Unique values in the target variable '{target_variable}': {y.unique()}\")"
   ]
  },
  {
   "cell_type": "code",
   "execution_count": 7,
   "id": "25158c89-dd5d-46e3-afd7-846c902c11b9",
   "metadata": {},
   "outputs": [
    {
     "name": "stdout",
     "output_type": "stream",
     "text": [
      "Feature columns before splitting:\n",
      "Index(['encounter_id', 'patient_nbr', 'race', 'gender', 'age',\n",
      "       'admission_type_id', 'discharge_disposition_id', 'admission_source_id',\n",
      "       'time_in_hospital', 'payer_code', 'medical_specialty',\n",
      "       'num_lab_procedures', 'num_procedures', 'num_medications',\n",
      "       'number_outpatient', 'number_emergency', 'number_inpatient', 'diag_1',\n",
      "       'diag_2', 'diag_3', 'number_diagnoses', 'metformin', 'repaglinide',\n",
      "       'nateglinide', 'chlorpropamide', 'glimepiride', 'acetohexamide',\n",
      "       'glipizide', 'glyburide', 'tolbutamide', 'pioglitazone',\n",
      "       'rosiglitazone', 'acarbose', 'miglitol', 'troglitazone', 'tolazamide',\n",
      "       'examide', 'citoglipton', 'insulin', 'glyburide-metformin',\n",
      "       'glipizide-metformin', 'glimepiride-pioglitazone',\n",
      "       'metformin-rosiglitazone', 'metformin-pioglitazone', 'change',\n",
      "       'diabetesMed', 'interaction_1', 'age_binned'],\n",
      "      dtype='object')\n"
     ]
    }
   ],
   "source": [
    "# drop target\n",
    "X = df.drop(target_variable, axis=1)\n",
    "numeric_transformer = Pipeline(steps=[\n",
    "    ('imputer', SimpleImputer(strategy='median')),\n",
    "    ('scaler', StandardScaler()),\n",
    "    ('poly', PolynomialFeatures(include_bias=False, interaction_only=True))\n",
    "])\n",
    "\n",
    "categorical_transformer = Pipeline(steps=[\n",
    "    ('imputer', SimpleImputer(strategy='most_frequent')),\n",
    "    ('encoder', OneHotEncoder(drop='first', handle_unknown='ignore'))\n",
    "])\n",
    "\n",
    "preprocessor = ColumnTransformer(\n",
    "    transformers=[\n",
    "        ('num', numeric_transformer, X.select_dtypes(include=['int64', 'float64']).columns),\n",
    "        ('cat', categorical_transformer, X.select_dtypes(include=['category']).columns)\n",
    "    ])\n",
    "print(\"Feature columns before splitting:\")\n",
    "print(X.columns)"
   ]
  },
  {
   "cell_type": "code",
   "execution_count": 8,
   "id": "51a3b6c3-2a79-4b55-9892-343f131f841b",
   "metadata": {},
   "outputs": [
    {
     "name": "stdout",
     "output_type": "stream",
     "text": [
      "Training feature columns after splitting:\n",
      "Index(['encounter_id', 'patient_nbr', 'race', 'gender', 'age',\n",
      "       'admission_type_id', 'discharge_disposition_id', 'admission_source_id',\n",
      "       'time_in_hospital', 'payer_code', 'medical_specialty',\n",
      "       'num_lab_procedures', 'num_procedures', 'num_medications',\n",
      "       'number_outpatient', 'number_emergency', 'number_inpatient', 'diag_1',\n",
      "       'diag_2', 'diag_3', 'number_diagnoses', 'metformin', 'repaglinide',\n",
      "       'nateglinide', 'chlorpropamide', 'glimepiride', 'acetohexamide',\n",
      "       'glipizide', 'glyburide', 'tolbutamide', 'pioglitazone',\n",
      "       'rosiglitazone', 'acarbose', 'miglitol', 'troglitazone', 'tolazamide',\n",
      "       'examide', 'citoglipton', 'insulin', 'glyburide-metformin',\n",
      "       'glipizide-metformin', 'glimepiride-pioglitazone',\n",
      "       'metformin-rosiglitazone', 'metformin-pioglitazone', 'change',\n",
      "       'diabetesMed', 'interaction_1', 'age_binned'],\n",
      "      dtype='object')\n"
     ]
    }
   ],
   "source": [
    "# split into traing and test\n",
    "X_train, X_test, y_train, y_test = train_test_split(X, y, test_size=0.2, random_state=42)\n",
    "\n",
    "print(\"Training feature columns after splitting:\")\n",
    "print(X_train.columns)"
   ]
  },
  {
   "cell_type": "code",
   "execution_count": 9,
   "id": "501e4a0e-ffb2-4037-a7f4-d19f4ce9680b",
   "metadata": {},
   "outputs": [
    {
     "name": "stderr",
     "output_type": "stream",
     "text": [
      "/Library/Frameworks/Python.framework/Versions/3.12/lib/python3.12/site-packages/sklearn/preprocessing/_encoders.py:242: UserWarning: Found unknown categories in columns [4, 5, 6, 7] during transform. These unknown categories will be encoded as all zeros\n",
      "  warnings.warn(\n"
     ]
    },
    {
     "name": "stdout",
     "output_type": "stream",
     "text": [
      "Transformed training data:\n",
      "  (0, 0)\t-0.8127173412879903\n",
      "  (0, 1)\t-1.4006156069663733\n",
      "  (0, 2)\t-0.7081080555791333\n",
      "  (0, 3)\t-0.5136588030061343\n",
      "  (0, 4)\t0.30695872007596015\n",
      "  (0, 5)\t-0.13411891096264028\n",
      "  (0, 6)\t0.24939450137817137\n",
      "  (0, 7)\t-0.7848791681292062\n",
      "  (0, 8)\t-0.6168449207523379\n",
      "  (0, 9)\t-0.29117075054098907\n",
      "  (0, 10)\t-0.21415416149522598\n",
      "  (0, 11)\t-0.5022606446950393\n",
      "  (0, 12)\t0.8159911338807437\n",
      "  (0, 13)\t-0.0823738375821849\n",
      "  (0, 14)\t0.8539356760750139\n",
      "  (0, 15)\t1.1383045922601758\n",
      "  (0, 16)\t0.5754916962748817\n",
      "  (0, 17)\t0.41745941670831704\n",
      "  (0, 18)\t-0.24947067486529878\n",
      "  (0, 19)\t0.10900076473399771\n",
      "  (0, 20)\t-0.20268723609191147\n",
      "  (0, 21)\t0.637884910754298\n",
      "  (0, 22)\t0.5013205639808411\n",
      "  (0, 23)\t0.2366395182405013\n",
      "  (0, 24)\t0.17404680075615897\n",
      "  :\t:\n",
      "  (4, 115)\t0.2550674013235307\n",
      "  (4, 116)\t0.24534028619226755\n",
      "  (4, 117)\t0.26540215457601213\n",
      "  (4, 118)\t0.2552809187761788\n",
      "  (4, 119)\t0.758117298053189\n",
      "  (4, 132)\t1.0\n",
      "  (4, 141)\t1.0\n",
      "  (4, 169)\t1.0\n",
      "  (4, 448)\t1.0\n",
      "  (4, 1206)\t1.0\n",
      "  (4, 1866)\t1.0\n",
      "  (4, 2384)\t1.0\n",
      "  (4, 2387)\t1.0\n",
      "  (4, 2390)\t1.0\n",
      "  (4, 2393)\t1.0\n",
      "  (4, 2396)\t1.0\n",
      "  (4, 2400)\t1.0\n",
      "  (4, 2403)\t1.0\n",
      "  (4, 2407)\t1.0\n",
      "  (4, 2410)\t1.0\n",
      "  (4, 2413)\t1.0\n",
      "  (4, 2416)\t1.0\n",
      "  (4, 2422)\t1.0\n",
      "  (4, 2425)\t1.0\n",
      "  (4, 2432)\t1.0\n"
     ]
    }
   ],
   "source": [
    "try:\n",
    "    X_train = preprocessor.fit_transform(X_train)\n",
    "    X_test = preprocessor.transform(X_test)\n",
    "except ValueError as e:\n",
    "    print(\"Error during transformation:\", e)\n",
    "    print(\"Preprocessor transformers:\", preprocessor.transformers)\n",
    "    print(\"Numeric columns:\", X.select_dtypes(include=['int64', 'float64']).columns)\n",
    "    print(\"Categorical columns:\", X.select_dtypes(include=['category']).columns)\n",
    "    raise e\n",
    "\n",
    "print(\"Transformed training data:\")\n",
    "print(X_train[:5])"
   ]
  },
  {
   "cell_type": "code",
   "execution_count": 10,
   "id": "d04fb4d2-ea6b-49ab-b50b-f44e2c9ffdf6",
   "metadata": {},
   "outputs": [],
   "source": [
    "# save for modeling\n",
    "sparse.save_npz('preprocessed_train_data.npz', X_train)\n",
    "sparse.save_npz('preprocessed_test_data.npz', X_test)\n",
    "\n",
    "np.savetxt('train_labels.csv', y_train, delimiter=\",\")\n",
    "np.savetxt('test_labels.csv', y_test, delimiter=\",\")"
   ]
  },
  {
   "cell_type": "code",
   "execution_count": null,
   "id": "422ef0d0-7771-433d-83b9-4b5856a7043e",
   "metadata": {},
   "outputs": [],
   "source": []
  }
 ],
 "metadata": {
  "kernelspec": {
   "display_name": "Python 3 (ipykernel)",
   "language": "python",
   "name": "python3"
  },
  "language_info": {
   "codemirror_mode": {
    "name": "ipython",
    "version": 3
   },
   "file_extension": ".py",
   "mimetype": "text/x-python",
   "name": "python",
   "nbconvert_exporter": "python",
   "pygments_lexer": "ipython3",
   "version": "3.12.3"
  }
 },
 "nbformat": 4,
 "nbformat_minor": 5
}
